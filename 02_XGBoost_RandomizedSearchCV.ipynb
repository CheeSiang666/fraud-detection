{
 "cells": [
  {
   "cell_type": "markdown",
   "metadata": {
    "id": "Sm6z56ipwRRM"
   },
   "source": [
    "# Credit Card Fraud Detection with AutoXGB\n",
    "\n",
    "## Part 2 - Baseline Model: XGBoost with RandomizedSearchCV\n",
    "___"
   ]
  },
  {
   "cell_type": "markdown",
   "metadata": {
    "id": "6JEReauUwRRQ"
   },
   "source": [
    "### Import dependencies and data"
   ]
  },
  {
   "cell_type": "code",
   "execution_count": 52,
   "metadata": {
    "id": "8WxYC7WlwRRR"
   },
   "outputs": [],
   "source": [
    "import numpy as np\n",
    "import pandas as pd\n",
    "import matplotlib.pyplot as plt\n",
    "\n",
    "import xgboost as xgb\n",
    "from xgboost import XGBClassifier, plot_importance\n",
    "\n",
    "import sklearn.metrics as metrics\n",
    "from sklearn.model_selection import RandomizedSearchCV\n",
    "\n",
    "import warnings\n",
    "warnings.filterwarnings(\"ignore\")\n",
    "\n",
    "pd.set_option('display.max_columns', None)"
   ]
  },
  {
   "cell_type": "code",
   "execution_count": 53,
   "metadata": {
    "colab": {
     "base_uri": "https://localhost:8080/"
    },
    "id": "IGsJm9e7Y3A1",
    "outputId": "e5adbdfc-d560-47b1-fca8-68bf48d4c6f3"
   },
   "outputs": [
    {
     "name": "stdout",
     "output_type": "stream",
     "text": [
      "1.2.1\n"
     ]
    }
   ],
   "source": [
    "print(xgb.__version__)"
   ]
  },
  {
   "cell_type": "markdown",
   "metadata": {
    "id": "bSkc2JlqRJAJ"
   },
   "source": [
    "If you are running this notebook on Colab, make sure to upgrade the XGBoost version (default version on Colab is 0.90) using `!pip install xgboost --upgrade`"
   ]
  },
  {
   "cell_type": "code",
   "execution_count": 54,
   "metadata": {
    "id": "W8O5Zbh_BvFr"
   },
   "outputs": [],
   "source": [
    "# !pip install xgboost --upgrade"
   ]
  },
  {
   "cell_type": "code",
   "execution_count": 55,
   "metadata": {
    "id": "711szWsJwRRT"
   },
   "outputs": [],
   "source": [
    "# Import processed datasets\n",
    "main_df = pd.read_csv('data/processed/train.csv')\n",
    "test_df = pd.read_csv('data/processed/test.csv')"
   ]
  },
  {
   "cell_type": "code",
   "execution_count": 56,
   "metadata": {
    "colab": {
     "base_uri": "https://localhost:8080/",
     "height": 226
    },
    "id": "Dnx-JiJOwptF",
    "outputId": "5c2e3ca2-d3ed-4620-b1d6-d76b484537e3"
   },
   "outputs": [
    {
     "data": {
      "text/html": [
       "<div>\n",
       "<style scoped>\n",
       "    .dataframe tbody tr th:only-of-type {\n",
       "        vertical-align: middle;\n",
       "    }\n",
       "\n",
       "    .dataframe tbody tr th {\n",
       "        vertical-align: top;\n",
       "    }\n",
       "\n",
       "    .dataframe thead th {\n",
       "        text-align: right;\n",
       "    }\n",
       "</style>\n",
       "<table border=\"1\" class=\"dataframe\">\n",
       "  <thead>\n",
       "    <tr style=\"text-align: right;\">\n",
       "      <th></th>\n",
       "      <th>TX_AMOUNT</th>\n",
       "      <th>TX_DURING_WEEKEND</th>\n",
       "      <th>TX_DURING_NIGHT</th>\n",
       "      <th>CUSTOMER_ID_NB_TX_1DAY_WINDOW</th>\n",
       "      <th>CUSTOMER_ID_NB_TX_7DAY_WINDOW</th>\n",
       "      <th>CUSTOMER_ID_NB_TX_30DAY_WINDOW</th>\n",
       "      <th>CUSTOMER_ID_AVG_AMOUNT_1DAY_WINDOW</th>\n",
       "      <th>CUSTOMER_ID_AVG_AMOUNT_7DAY_WINDOW</th>\n",
       "      <th>CUSTOMER_ID_AVG_AMOUNT_30DAY_WINDOW</th>\n",
       "      <th>TERMINAL_ID_NB_TX_1DAY_WINDOW</th>\n",
       "      <th>TERMINAL_ID_NB_TX_7DAY_WINDOW</th>\n",
       "      <th>TERMINAL_ID_NB_TX_30DAY_WINDOW</th>\n",
       "      <th>TERMINAL_ID_RISK_1DAY_WINDOW</th>\n",
       "      <th>TERMINAL_ID_RISK_7DAY_WINDOW</th>\n",
       "      <th>TERMINAL_ID_RISK_30DAY_WINDOW</th>\n",
       "      <th>TX_FRAUD</th>\n",
       "    </tr>\n",
       "  </thead>\n",
       "  <tbody>\n",
       "    <tr>\n",
       "      <th>0</th>\n",
       "      <td>21.47</td>\n",
       "      <td>0</td>\n",
       "      <td>0</td>\n",
       "      <td>2.0</td>\n",
       "      <td>25.0</td>\n",
       "      <td>109.0</td>\n",
       "      <td>22.250</td>\n",
       "      <td>36.411200</td>\n",
       "      <td>36.684587</td>\n",
       "      <td>3.0</td>\n",
       "      <td>8.0</td>\n",
       "      <td>40.0</td>\n",
       "      <td>0.0</td>\n",
       "      <td>0.0</td>\n",
       "      <td>0.0000</td>\n",
       "      <td>0</td>\n",
       "    </tr>\n",
       "    <tr>\n",
       "      <th>1</th>\n",
       "      <td>47.09</td>\n",
       "      <td>0</td>\n",
       "      <td>0</td>\n",
       "      <td>2.0</td>\n",
       "      <td>11.0</td>\n",
       "      <td>37.0</td>\n",
       "      <td>52.015</td>\n",
       "      <td>50.244545</td>\n",
       "      <td>42.980811</td>\n",
       "      <td>0.0</td>\n",
       "      <td>3.0</td>\n",
       "      <td>16.0</td>\n",
       "      <td>0.0</td>\n",
       "      <td>0.0</td>\n",
       "      <td>0.0625</td>\n",
       "      <td>0</td>\n",
       "    </tr>\n",
       "    <tr>\n",
       "      <th>2</th>\n",
       "      <td>71.58</td>\n",
       "      <td>1</td>\n",
       "      <td>0</td>\n",
       "      <td>5.0</td>\n",
       "      <td>16.0</td>\n",
       "      <td>78.0</td>\n",
       "      <td>76.220</td>\n",
       "      <td>63.748750</td>\n",
       "      <td>61.781026</td>\n",
       "      <td>0.0</td>\n",
       "      <td>4.0</td>\n",
       "      <td>21.0</td>\n",
       "      <td>0.0</td>\n",
       "      <td>0.0</td>\n",
       "      <td>0.0000</td>\n",
       "      <td>0</td>\n",
       "    </tr>\n",
       "    <tr>\n",
       "      <th>3</th>\n",
       "      <td>111.57</td>\n",
       "      <td>0</td>\n",
       "      <td>0</td>\n",
       "      <td>4.0</td>\n",
       "      <td>28.0</td>\n",
       "      <td>102.0</td>\n",
       "      <td>114.730</td>\n",
       "      <td>114.735000</td>\n",
       "      <td>95.709412</td>\n",
       "      <td>0.0</td>\n",
       "      <td>6.0</td>\n",
       "      <td>37.0</td>\n",
       "      <td>0.0</td>\n",
       "      <td>0.0</td>\n",
       "      <td>0.0000</td>\n",
       "      <td>0</td>\n",
       "    </tr>\n",
       "    <tr>\n",
       "      <th>4</th>\n",
       "      <td>84.45</td>\n",
       "      <td>0</td>\n",
       "      <td>0</td>\n",
       "      <td>1.0</td>\n",
       "      <td>24.0</td>\n",
       "      <td>116.0</td>\n",
       "      <td>84.450</td>\n",
       "      <td>53.076667</td>\n",
       "      <td>56.270517</td>\n",
       "      <td>1.0</td>\n",
       "      <td>8.0</td>\n",
       "      <td>42.0</td>\n",
       "      <td>0.0</td>\n",
       "      <td>0.0</td>\n",
       "      <td>0.0000</td>\n",
       "      <td>0</td>\n",
       "    </tr>\n",
       "  </tbody>\n",
       "</table>\n",
       "</div>"
      ],
      "text/plain": [
       "   TX_AMOUNT  TX_DURING_WEEKEND  TX_DURING_NIGHT  \\\n",
       "0      21.47                  0                0   \n",
       "1      47.09                  0                0   \n",
       "2      71.58                  1                0   \n",
       "3     111.57                  0                0   \n",
       "4      84.45                  0                0   \n",
       "\n",
       "   CUSTOMER_ID_NB_TX_1DAY_WINDOW  CUSTOMER_ID_NB_TX_7DAY_WINDOW  \\\n",
       "0                            2.0                           25.0   \n",
       "1                            2.0                           11.0   \n",
       "2                            5.0                           16.0   \n",
       "3                            4.0                           28.0   \n",
       "4                            1.0                           24.0   \n",
       "\n",
       "   CUSTOMER_ID_NB_TX_30DAY_WINDOW  CUSTOMER_ID_AVG_AMOUNT_1DAY_WINDOW  \\\n",
       "0                           109.0                              22.250   \n",
       "1                            37.0                              52.015   \n",
       "2                            78.0                              76.220   \n",
       "3                           102.0                             114.730   \n",
       "4                           116.0                              84.450   \n",
       "\n",
       "   CUSTOMER_ID_AVG_AMOUNT_7DAY_WINDOW  CUSTOMER_ID_AVG_AMOUNT_30DAY_WINDOW  \\\n",
       "0                           36.411200                            36.684587   \n",
       "1                           50.244545                            42.980811   \n",
       "2                           63.748750                            61.781026   \n",
       "3                          114.735000                            95.709412   \n",
       "4                           53.076667                            56.270517   \n",
       "\n",
       "   TERMINAL_ID_NB_TX_1DAY_WINDOW  TERMINAL_ID_NB_TX_7DAY_WINDOW  \\\n",
       "0                            3.0                            8.0   \n",
       "1                            0.0                            3.0   \n",
       "2                            0.0                            4.0   \n",
       "3                            0.0                            6.0   \n",
       "4                            1.0                            8.0   \n",
       "\n",
       "   TERMINAL_ID_NB_TX_30DAY_WINDOW  TERMINAL_ID_RISK_1DAY_WINDOW  \\\n",
       "0                            40.0                           0.0   \n",
       "1                            16.0                           0.0   \n",
       "2                            21.0                           0.0   \n",
       "3                            37.0                           0.0   \n",
       "4                            42.0                           0.0   \n",
       "\n",
       "   TERMINAL_ID_RISK_7DAY_WINDOW  TERMINAL_ID_RISK_30DAY_WINDOW  TX_FRAUD  \n",
       "0                           0.0                         0.0000         0  \n",
       "1                           0.0                         0.0625         0  \n",
       "2                           0.0                         0.0000         0  \n",
       "3                           0.0                         0.0000         0  \n",
       "4                           0.0                         0.0000         0  "
      ]
     },
     "execution_count": 56,
     "metadata": {},
     "output_type": "execute_result"
    }
   ],
   "source": [
    "main_df.head()"
   ]
  },
  {
   "cell_type": "markdown",
   "metadata": {
    "id": "JvXsjiyLwRRU"
   },
   "source": [
    "### Data Preparation"
   ]
  },
  {
   "cell_type": "code",
   "execution_count": 57,
   "metadata": {
    "id": "755c4fCe9VQ_"
   },
   "outputs": [],
   "source": [
    "# Define target variable\n",
    "target = 'TX_FRAUD'"
   ]
  },
  {
   "cell_type": "code",
   "execution_count": 58,
   "metadata": {
    "colab": {
     "base_uri": "https://localhost:8080/"
    },
    "id": "LSqVUSMD1JnP",
    "outputId": "cc6e94da-84db-4ab7-a886-6c33ceb7b01b"
   },
   "outputs": [
    {
     "data": {
      "text/plain": [
       "0    55060\n",
       "1    27530\n",
       "Name: TX_FRAUD, dtype: int64"
      ]
     },
     "execution_count": 58,
     "metadata": {},
     "output_type": "execute_result"
    }
   ],
   "source": [
    "# View labels\n",
    "main_df[target].value_counts(dropna=False)"
   ]
  },
  {
   "cell_type": "code",
   "execution_count": 59,
   "metadata": {
    "id": "o7s9N7LkwRRU"
   },
   "outputs": [],
   "source": [
    "# Set X and y datasets\n",
    "X = main_df.drop(columns=target)\n",
    "y = main_df[target]"
   ]
  },
  {
   "cell_type": "markdown",
   "metadata": {
    "id": "oAQpDubZwRRV"
   },
   "source": [
    "### Run XGBoost Classification"
   ]
  },
  {
   "cell_type": "code",
   "execution_count": 60,
   "metadata": {
    "id": "pj9znW60wRRW"
   },
   "outputs": [],
   "source": [
    "# Set parameter grid\n",
    "xgb_params = {'max_depth': [3, 5, 6, 8, 9, 10, 11], # Maximum depth of a tree\n",
    "              'learning_rate': [0.01, 0.1, 0.2, 0.3, 0.5], # Step size shrinkage used in update to prevents overfitting\n",
    "              'subsample': np.arange(0.4, 1.0, 0.1),\n",
    "              'colsample_bytree': np.arange(0.3, 1.0, 0.1), # Number of features supplied to a tree\n",
    "              'colsample_bylevel': np.arange(0.3, 1.0, 0.1),\n",
    "              'n_estimators': np.arange(100, 600, 100),\n",
    "              'gamma': np.arange(0, 0.7, 0.1)}"
   ]
  },
  {
   "cell_type": "code",
   "execution_count": 61,
   "metadata": {
    "id": "_zqS3f1zwRRX"
   },
   "outputs": [],
   "source": [
    "# Create RandomizedSearchCV instance\n",
    "xgb_grid = RandomizedSearchCV(estimator=XGBClassifier(objective='binary:logistic', \n",
    "                                                      tree_method=\"hist\", # Use GPU\n",
    "                                                      random_state=42,\n",
    "                                                      eval_metric='aucpr'), # AUC under PR curve\n",
    "                              param_distributions=xgb_params, \n",
    "                              cv=5, \n",
    "                              verbose=2,\n",
    "                              n_iter=50,\n",
    "                              scoring='average_precision') "
   ]
  },
  {
   "cell_type": "code",
   "execution_count": 62,
   "metadata": {
    "colab": {
     "base_uri": "https://localhost:8080/"
    },
    "id": "pTaRYKUTwRRY",
    "outputId": "5ed809cb-6578-450c-af7c-b02e1848aeba"
   },
   "outputs": [
    {
     "name": "stdout",
     "output_type": "stream",
     "text": [
      "Fitting 5 folds for each of 50 candidates, totalling 250 fits\n",
      "[CV] END colsample_bylevel=0.8000000000000003, colsample_bytree=0.7000000000000002, gamma=0.6000000000000001, learning_rate=0.5, max_depth=5, n_estimators=300, subsample=0.4; total time=   3.1s\n",
      "[CV] END colsample_bylevel=0.8000000000000003, colsample_bytree=0.7000000000000002, gamma=0.6000000000000001, learning_rate=0.5, max_depth=5, n_estimators=300, subsample=0.4; total time=   4.4s\n",
      "[CV] END colsample_bylevel=0.8000000000000003, colsample_bytree=0.7000000000000002, gamma=0.6000000000000001, learning_rate=0.5, max_depth=5, n_estimators=300, subsample=0.4; total time=   4.5s\n",
      "[CV] END colsample_bylevel=0.8000000000000003, colsample_bytree=0.7000000000000002, gamma=0.6000000000000001, learning_rate=0.5, max_depth=5, n_estimators=300, subsample=0.4; total time=   4.5s\n",
      "[CV] END colsample_bylevel=0.8000000000000003, colsample_bytree=0.7000000000000002, gamma=0.6000000000000001, learning_rate=0.5, max_depth=5, n_estimators=300, subsample=0.4; total time=   4.4s\n",
      "[CV] END colsample_bylevel=0.7000000000000002, colsample_bytree=0.7000000000000002, gamma=0.4, learning_rate=0.3, max_depth=8, n_estimators=100, subsample=0.8999999999999999; total time=   2.1s\n",
      "[CV] END colsample_bylevel=0.7000000000000002, colsample_bytree=0.7000000000000002, gamma=0.4, learning_rate=0.3, max_depth=8, n_estimators=100, subsample=0.8999999999999999; total time=   2.2s\n",
      "[CV] END colsample_bylevel=0.7000000000000002, colsample_bytree=0.7000000000000002, gamma=0.4, learning_rate=0.3, max_depth=8, n_estimators=100, subsample=0.8999999999999999; total time=   2.4s\n",
      "[CV] END colsample_bylevel=0.7000000000000002, colsample_bytree=0.7000000000000002, gamma=0.4, learning_rate=0.3, max_depth=8, n_estimators=100, subsample=0.8999999999999999; total time=   2.4s\n",
      "[CV] END colsample_bylevel=0.7000000000000002, colsample_bytree=0.7000000000000002, gamma=0.4, learning_rate=0.3, max_depth=8, n_estimators=100, subsample=0.8999999999999999; total time=   2.2s\n",
      "[CV] END colsample_bylevel=0.5, colsample_bytree=0.3, gamma=0.0, learning_rate=0.5, max_depth=3, n_estimators=200, subsample=0.6; total time=   2.8s\n",
      "[CV] END colsample_bylevel=0.5, colsample_bytree=0.3, gamma=0.0, learning_rate=0.5, max_depth=3, n_estimators=200, subsample=0.6; total time=   2.6s\n",
      "[CV] END colsample_bylevel=0.5, colsample_bytree=0.3, gamma=0.0, learning_rate=0.5, max_depth=3, n_estimators=200, subsample=0.6; total time=   2.7s\n",
      "[CV] END colsample_bylevel=0.5, colsample_bytree=0.3, gamma=0.0, learning_rate=0.5, max_depth=3, n_estimators=200, subsample=0.6; total time=   2.6s\n",
      "[CV] END colsample_bylevel=0.5, colsample_bytree=0.3, gamma=0.0, learning_rate=0.5, max_depth=3, n_estimators=200, subsample=0.6; total time=   2.7s\n",
      "[CV] END colsample_bylevel=0.8000000000000003, colsample_bytree=0.6000000000000001, gamma=0.5, learning_rate=0.01, max_depth=11, n_estimators=100, subsample=0.5; total time=   2.5s\n",
      "[CV] END colsample_bylevel=0.8000000000000003, colsample_bytree=0.6000000000000001, gamma=0.5, learning_rate=0.01, max_depth=11, n_estimators=100, subsample=0.5; total time=   2.5s\n",
      "[CV] END colsample_bylevel=0.8000000000000003, colsample_bytree=0.6000000000000001, gamma=0.5, learning_rate=0.01, max_depth=11, n_estimators=100, subsample=0.5; total time=   2.5s\n",
      "[CV] END colsample_bylevel=0.8000000000000003, colsample_bytree=0.6000000000000001, gamma=0.5, learning_rate=0.01, max_depth=11, n_estimators=100, subsample=0.5; total time=   2.6s\n",
      "[CV] END colsample_bylevel=0.8000000000000003, colsample_bytree=0.6000000000000001, gamma=0.5, learning_rate=0.01, max_depth=11, n_estimators=100, subsample=0.5; total time=   2.6s\n",
      "[CV] END colsample_bylevel=0.5, colsample_bytree=0.4, gamma=0.5, learning_rate=0.2, max_depth=6, n_estimators=300, subsample=0.7999999999999999; total time=   4.8s\n",
      "[CV] END colsample_bylevel=0.5, colsample_bytree=0.4, gamma=0.5, learning_rate=0.2, max_depth=6, n_estimators=300, subsample=0.7999999999999999; total time=   5.0s\n",
      "[CV] END colsample_bylevel=0.5, colsample_bytree=0.4, gamma=0.5, learning_rate=0.2, max_depth=6, n_estimators=300, subsample=0.7999999999999999; total time=   5.0s\n",
      "[CV] END colsample_bylevel=0.5, colsample_bytree=0.4, gamma=0.5, learning_rate=0.2, max_depth=6, n_estimators=300, subsample=0.7999999999999999; total time=   4.9s\n",
      "[CV] END colsample_bylevel=0.5, colsample_bytree=0.4, gamma=0.5, learning_rate=0.2, max_depth=6, n_estimators=300, subsample=0.7999999999999999; total time=   4.9s\n",
      "[CV] END colsample_bylevel=0.5, colsample_bytree=0.7000000000000002, gamma=0.2, learning_rate=0.01, max_depth=5, n_estimators=100, subsample=0.6; total time=   1.6s\n",
      "[CV] END colsample_bylevel=0.5, colsample_bytree=0.7000000000000002, gamma=0.2, learning_rate=0.01, max_depth=5, n_estimators=100, subsample=0.6; total time=   1.6s\n",
      "[CV] END colsample_bylevel=0.5, colsample_bytree=0.7000000000000002, gamma=0.2, learning_rate=0.01, max_depth=5, n_estimators=100, subsample=0.6; total time=   1.5s\n",
      "[CV] END colsample_bylevel=0.5, colsample_bytree=0.7000000000000002, gamma=0.2, learning_rate=0.01, max_depth=5, n_estimators=100, subsample=0.6; total time=   1.5s\n",
      "[CV] END colsample_bylevel=0.5, colsample_bytree=0.7000000000000002, gamma=0.2, learning_rate=0.01, max_depth=5, n_estimators=100, subsample=0.6; total time=   1.6s\n",
      "[CV] END colsample_bylevel=0.6000000000000001, colsample_bytree=0.9000000000000001, gamma=0.0, learning_rate=0.5, max_depth=10, n_estimators=100, subsample=0.7; total time=   2.0s\n",
      "[CV] END colsample_bylevel=0.6000000000000001, colsample_bytree=0.9000000000000001, gamma=0.0, learning_rate=0.5, max_depth=10, n_estimators=100, subsample=0.7; total time=   2.4s\n",
      "[CV] END colsample_bylevel=0.6000000000000001, colsample_bytree=0.9000000000000001, gamma=0.0, learning_rate=0.5, max_depth=10, n_estimators=100, subsample=0.7; total time=   2.5s\n",
      "[CV] END colsample_bylevel=0.6000000000000001, colsample_bytree=0.9000000000000001, gamma=0.0, learning_rate=0.5, max_depth=10, n_estimators=100, subsample=0.7; total time=   2.5s\n",
      "[CV] END colsample_bylevel=0.6000000000000001, colsample_bytree=0.9000000000000001, gamma=0.0, learning_rate=0.5, max_depth=10, n_estimators=100, subsample=0.7; total time=   2.5s\n",
      "[CV] END colsample_bylevel=0.9000000000000001, colsample_bytree=0.6000000000000001, gamma=0.6000000000000001, learning_rate=0.2, max_depth=9, n_estimators=300, subsample=0.4; total time=   4.9s\n",
      "[CV] END colsample_bylevel=0.9000000000000001, colsample_bytree=0.6000000000000001, gamma=0.6000000000000001, learning_rate=0.2, max_depth=9, n_estimators=300, subsample=0.4; total time=   6.6s\n",
      "[CV] END colsample_bylevel=0.9000000000000001, colsample_bytree=0.6000000000000001, gamma=0.6000000000000001, learning_rate=0.2, max_depth=9, n_estimators=300, subsample=0.4; total time=   6.8s\n",
      "[CV] END colsample_bylevel=0.9000000000000001, colsample_bytree=0.6000000000000001, gamma=0.6000000000000001, learning_rate=0.2, max_depth=9, n_estimators=300, subsample=0.4; total time=   6.3s\n",
      "[CV] END colsample_bylevel=0.9000000000000001, colsample_bytree=0.6000000000000001, gamma=0.6000000000000001, learning_rate=0.2, max_depth=9, n_estimators=300, subsample=0.4; total time=   6.5s\n",
      "[CV] END colsample_bylevel=0.8000000000000003, colsample_bytree=0.8000000000000003, gamma=0.5, learning_rate=0.5, max_depth=3, n_estimators=200, subsample=0.8999999999999999; total time=   3.3s\n",
      "[CV] END colsample_bylevel=0.8000000000000003, colsample_bytree=0.8000000000000003, gamma=0.5, learning_rate=0.5, max_depth=3, n_estimators=200, subsample=0.8999999999999999; total time=   3.1s\n",
      "[CV] END colsample_bylevel=0.8000000000000003, colsample_bytree=0.8000000000000003, gamma=0.5, learning_rate=0.5, max_depth=3, n_estimators=200, subsample=0.8999999999999999; total time=   3.5s\n",
      "[CV] END colsample_bylevel=0.8000000000000003, colsample_bytree=0.8000000000000003, gamma=0.5, learning_rate=0.5, max_depth=3, n_estimators=200, subsample=0.8999999999999999; total time=   3.6s\n",
      "[CV] END colsample_bylevel=0.8000000000000003, colsample_bytree=0.8000000000000003, gamma=0.5, learning_rate=0.5, max_depth=3, n_estimators=200, subsample=0.8999999999999999; total time=   3.8s\n",
      "[CV] END colsample_bylevel=0.9000000000000001, colsample_bytree=0.9000000000000001, gamma=0.2, learning_rate=0.01, max_depth=11, n_estimators=200, subsample=0.7999999999999999; total time=   7.2s\n"
     ]
    },
    {
     "name": "stdout",
     "output_type": "stream",
     "text": [
      "[CV] END colsample_bylevel=0.9000000000000001, colsample_bytree=0.9000000000000001, gamma=0.2, learning_rate=0.01, max_depth=11, n_estimators=200, subsample=0.7999999999999999; total time=   6.5s\n",
      "[CV] END colsample_bylevel=0.9000000000000001, colsample_bytree=0.9000000000000001, gamma=0.2, learning_rate=0.01, max_depth=11, n_estimators=200, subsample=0.7999999999999999; total time=   6.2s\n",
      "[CV] END colsample_bylevel=0.9000000000000001, colsample_bytree=0.9000000000000001, gamma=0.2, learning_rate=0.01, max_depth=11, n_estimators=200, subsample=0.7999999999999999; total time=   6.1s\n",
      "[CV] END colsample_bylevel=0.9000000000000001, colsample_bytree=0.9000000000000001, gamma=0.2, learning_rate=0.01, max_depth=11, n_estimators=200, subsample=0.7999999999999999; total time=   6.3s\n",
      "[CV] END colsample_bylevel=0.3, colsample_bytree=0.8000000000000003, gamma=0.0, learning_rate=0.5, max_depth=11, n_estimators=300, subsample=0.8999999999999999; total time=   6.4s\n",
      "[CV] END colsample_bylevel=0.3, colsample_bytree=0.8000000000000003, gamma=0.0, learning_rate=0.5, max_depth=11, n_estimators=300, subsample=0.8999999999999999; total time=   7.7s\n",
      "[CV] END colsample_bylevel=0.3, colsample_bytree=0.8000000000000003, gamma=0.0, learning_rate=0.5, max_depth=11, n_estimators=300, subsample=0.8999999999999999; total time=   8.0s\n",
      "[CV] END colsample_bylevel=0.3, colsample_bytree=0.8000000000000003, gamma=0.0, learning_rate=0.5, max_depth=11, n_estimators=300, subsample=0.8999999999999999; total time=   7.9s\n",
      "[CV] END colsample_bylevel=0.3, colsample_bytree=0.8000000000000003, gamma=0.0, learning_rate=0.5, max_depth=11, n_estimators=300, subsample=0.8999999999999999; total time=   7.7s\n",
      "[CV] END colsample_bylevel=0.6000000000000001, colsample_bytree=0.8000000000000003, gamma=0.30000000000000004, learning_rate=0.3, max_depth=3, n_estimators=200, subsample=0.8999999999999999; total time=   3.5s\n",
      "[CV] END colsample_bylevel=0.6000000000000001, colsample_bytree=0.8000000000000003, gamma=0.30000000000000004, learning_rate=0.3, max_depth=3, n_estimators=200, subsample=0.8999999999999999; total time=   3.6s\n",
      "[CV] END colsample_bylevel=0.6000000000000001, colsample_bytree=0.8000000000000003, gamma=0.30000000000000004, learning_rate=0.3, max_depth=3, n_estimators=200, subsample=0.8999999999999999; total time=   3.2s\n",
      "[CV] END colsample_bylevel=0.6000000000000001, colsample_bytree=0.8000000000000003, gamma=0.30000000000000004, learning_rate=0.3, max_depth=3, n_estimators=200, subsample=0.8999999999999999; total time=   3.3s\n",
      "[CV] END colsample_bylevel=0.6000000000000001, colsample_bytree=0.8000000000000003, gamma=0.30000000000000004, learning_rate=0.3, max_depth=3, n_estimators=200, subsample=0.8999999999999999; total time=   3.0s\n",
      "[CV] END colsample_bylevel=0.5, colsample_bytree=0.5, gamma=0.4, learning_rate=0.3, max_depth=6, n_estimators=400, subsample=0.4; total time=   6.5s\n",
      "[CV] END colsample_bylevel=0.5, colsample_bytree=0.5, gamma=0.4, learning_rate=0.3, max_depth=6, n_estimators=400, subsample=0.4; total time=   6.5s\n",
      "[CV] END colsample_bylevel=0.5, colsample_bytree=0.5, gamma=0.4, learning_rate=0.3, max_depth=6, n_estimators=400, subsample=0.4; total time=   6.5s\n",
      "[CV] END colsample_bylevel=0.5, colsample_bytree=0.5, gamma=0.4, learning_rate=0.3, max_depth=6, n_estimators=400, subsample=0.4; total time=   7.0s\n",
      "[CV] END colsample_bylevel=0.5, colsample_bytree=0.5, gamma=0.4, learning_rate=0.3, max_depth=6, n_estimators=400, subsample=0.4; total time=   6.4s\n",
      "[CV] END colsample_bylevel=0.5, colsample_bytree=0.4, gamma=0.30000000000000004, learning_rate=0.3, max_depth=11, n_estimators=200, subsample=0.5; total time=   4.5s\n",
      "[CV] END colsample_bylevel=0.5, colsample_bytree=0.4, gamma=0.30000000000000004, learning_rate=0.3, max_depth=11, n_estimators=200, subsample=0.5; total time=   5.3s\n",
      "[CV] END colsample_bylevel=0.5, colsample_bytree=0.4, gamma=0.30000000000000004, learning_rate=0.3, max_depth=11, n_estimators=200, subsample=0.5; total time=   5.1s\n",
      "[CV] END colsample_bylevel=0.5, colsample_bytree=0.4, gamma=0.30000000000000004, learning_rate=0.3, max_depth=11, n_estimators=200, subsample=0.5; total time=   4.9s\n",
      "[CV] END colsample_bylevel=0.5, colsample_bytree=0.4, gamma=0.30000000000000004, learning_rate=0.3, max_depth=11, n_estimators=200, subsample=0.5; total time=   4.5s\n",
      "[CV] END colsample_bylevel=0.5, colsample_bytree=0.3, gamma=0.5, learning_rate=0.1, max_depth=8, n_estimators=100, subsample=0.5; total time=   1.8s\n",
      "[CV] END colsample_bylevel=0.5, colsample_bytree=0.3, gamma=0.5, learning_rate=0.1, max_depth=8, n_estimators=100, subsample=0.5; total time=   1.9s\n",
      "[CV] END colsample_bylevel=0.5, colsample_bytree=0.3, gamma=0.5, learning_rate=0.1, max_depth=8, n_estimators=100, subsample=0.5; total time=   1.9s\n",
      "[CV] END colsample_bylevel=0.5, colsample_bytree=0.3, gamma=0.5, learning_rate=0.1, max_depth=8, n_estimators=100, subsample=0.5; total time=   2.0s\n",
      "[CV] END colsample_bylevel=0.5, colsample_bytree=0.3, gamma=0.5, learning_rate=0.1, max_depth=8, n_estimators=100, subsample=0.5; total time=   2.1s\n",
      "[CV] END colsample_bylevel=0.9000000000000001, colsample_bytree=0.8000000000000003, gamma=0.2, learning_rate=0.2, max_depth=5, n_estimators=500, subsample=0.6; total time=   9.0s\n",
      "[CV] END colsample_bylevel=0.9000000000000001, colsample_bytree=0.8000000000000003, gamma=0.2, learning_rate=0.2, max_depth=5, n_estimators=500, subsample=0.6; total time=   9.0s\n",
      "[CV] END colsample_bylevel=0.9000000000000001, colsample_bytree=0.8000000000000003, gamma=0.2, learning_rate=0.2, max_depth=5, n_estimators=500, subsample=0.6; total time=   8.0s\n",
      "[CV] END colsample_bylevel=0.9000000000000001, colsample_bytree=0.8000000000000003, gamma=0.2, learning_rate=0.2, max_depth=5, n_estimators=500, subsample=0.6; total time=  10.0s\n",
      "[CV] END colsample_bylevel=0.9000000000000001, colsample_bytree=0.8000000000000003, gamma=0.2, learning_rate=0.2, max_depth=5, n_estimators=500, subsample=0.6; total time=   9.1s\n",
      "[CV] END colsample_bylevel=0.5, colsample_bytree=0.6000000000000001, gamma=0.30000000000000004, learning_rate=0.5, max_depth=9, n_estimators=100, subsample=0.7; total time=   2.2s\n",
      "[CV] END colsample_bylevel=0.5, colsample_bytree=0.6000000000000001, gamma=0.30000000000000004, learning_rate=0.5, max_depth=9, n_estimators=100, subsample=0.7; total time=   3.2s\n",
      "[CV] END colsample_bylevel=0.5, colsample_bytree=0.6000000000000001, gamma=0.30000000000000004, learning_rate=0.5, max_depth=9, n_estimators=100, subsample=0.7; total time=   3.3s\n",
      "[CV] END colsample_bylevel=0.5, colsample_bytree=0.6000000000000001, gamma=0.30000000000000004, learning_rate=0.5, max_depth=9, n_estimators=100, subsample=0.7; total time=   2.7s\n",
      "[CV] END colsample_bylevel=0.5, colsample_bytree=0.6000000000000001, gamma=0.30000000000000004, learning_rate=0.5, max_depth=9, n_estimators=100, subsample=0.7; total time=   2.5s\n",
      "[CV] END colsample_bylevel=0.9000000000000001, colsample_bytree=0.8000000000000003, gamma=0.1, learning_rate=0.3, max_depth=6, n_estimators=300, subsample=0.6; total time=   5.6s\n",
      "[CV] END colsample_bylevel=0.9000000000000001, colsample_bytree=0.8000000000000003, gamma=0.1, learning_rate=0.3, max_depth=6, n_estimators=300, subsample=0.6; total time=   6.0s\n",
      "[CV] END colsample_bylevel=0.9000000000000001, colsample_bytree=0.8000000000000003, gamma=0.1, learning_rate=0.3, max_depth=6, n_estimators=300, subsample=0.6; total time=   6.1s\n",
      "[CV] END colsample_bylevel=0.9000000000000001, colsample_bytree=0.8000000000000003, gamma=0.1, learning_rate=0.3, max_depth=6, n_estimators=300, subsample=0.6; total time=   6.2s\n",
      "[CV] END colsample_bylevel=0.9000000000000001, colsample_bytree=0.8000000000000003, gamma=0.1, learning_rate=0.3, max_depth=6, n_estimators=300, subsample=0.6; total time=   6.2s\n",
      "[CV] END colsample_bylevel=0.3, colsample_bytree=0.6000000000000001, gamma=0.30000000000000004, learning_rate=0.3, max_depth=5, n_estimators=500, subsample=0.4; total time=   8.1s\n",
      "[CV] END colsample_bylevel=0.3, colsample_bytree=0.6000000000000001, gamma=0.30000000000000004, learning_rate=0.3, max_depth=5, n_estimators=500, subsample=0.4; total time=   7.4s\n",
      "[CV] END colsample_bylevel=0.3, colsample_bytree=0.6000000000000001, gamma=0.30000000000000004, learning_rate=0.3, max_depth=5, n_estimators=500, subsample=0.4; total time=   7.7s\n"
     ]
    },
    {
     "name": "stdout",
     "output_type": "stream",
     "text": [
      "[CV] END colsample_bylevel=0.3, colsample_bytree=0.6000000000000001, gamma=0.30000000000000004, learning_rate=0.3, max_depth=5, n_estimators=500, subsample=0.4; total time=   7.3s\n",
      "[CV] END colsample_bylevel=0.3, colsample_bytree=0.6000000000000001, gamma=0.30000000000000004, learning_rate=0.3, max_depth=5, n_estimators=500, subsample=0.4; total time=   7.3s\n",
      "[CV] END colsample_bylevel=0.5, colsample_bytree=0.6000000000000001, gamma=0.30000000000000004, learning_rate=0.3, max_depth=5, n_estimators=500, subsample=0.4; total time=   7.8s\n",
      "[CV] END colsample_bylevel=0.5, colsample_bytree=0.6000000000000001, gamma=0.30000000000000004, learning_rate=0.3, max_depth=5, n_estimators=500, subsample=0.4; total time=   7.3s\n",
      "[CV] END colsample_bylevel=0.5, colsample_bytree=0.6000000000000001, gamma=0.30000000000000004, learning_rate=0.3, max_depth=5, n_estimators=500, subsample=0.4; total time=   9.0s\n",
      "[CV] END colsample_bylevel=0.5, colsample_bytree=0.6000000000000001, gamma=0.30000000000000004, learning_rate=0.3, max_depth=5, n_estimators=500, subsample=0.4; total time=   7.3s\n",
      "[CV] END colsample_bylevel=0.5, colsample_bytree=0.6000000000000001, gamma=0.30000000000000004, learning_rate=0.3, max_depth=5, n_estimators=500, subsample=0.4; total time=   7.4s\n",
      "[CV] END colsample_bylevel=0.7000000000000002, colsample_bytree=0.5, gamma=0.2, learning_rate=0.3, max_depth=8, n_estimators=100, subsample=0.6; total time=   2.1s\n",
      "[CV] END colsample_bylevel=0.7000000000000002, colsample_bytree=0.5, gamma=0.2, learning_rate=0.3, max_depth=8, n_estimators=100, subsample=0.6; total time=   2.1s\n",
      "[CV] END colsample_bylevel=0.7000000000000002, colsample_bytree=0.5, gamma=0.2, learning_rate=0.3, max_depth=8, n_estimators=100, subsample=0.6; total time=   2.0s\n",
      "[CV] END colsample_bylevel=0.7000000000000002, colsample_bytree=0.5, gamma=0.2, learning_rate=0.3, max_depth=8, n_estimators=100, subsample=0.6; total time=   2.1s\n",
      "[CV] END colsample_bylevel=0.7000000000000002, colsample_bytree=0.5, gamma=0.2, learning_rate=0.3, max_depth=8, n_estimators=100, subsample=0.6; total time=   2.1s\n",
      "[CV] END colsample_bylevel=0.4, colsample_bytree=0.5, gamma=0.0, learning_rate=0.1, max_depth=11, n_estimators=200, subsample=0.5; total time=   4.0s\n",
      "[CV] END colsample_bylevel=0.4, colsample_bytree=0.5, gamma=0.0, learning_rate=0.1, max_depth=11, n_estimators=200, subsample=0.5; total time=   4.2s\n",
      "[CV] END colsample_bylevel=0.4, colsample_bytree=0.5, gamma=0.0, learning_rate=0.1, max_depth=11, n_estimators=200, subsample=0.5; total time=   4.3s\n",
      "[CV] END colsample_bylevel=0.4, colsample_bytree=0.5, gamma=0.0, learning_rate=0.1, max_depth=11, n_estimators=200, subsample=0.5; total time=   4.2s\n",
      "[CV] END colsample_bylevel=0.4, colsample_bytree=0.5, gamma=0.0, learning_rate=0.1, max_depth=11, n_estimators=200, subsample=0.5; total time=   4.3s\n",
      "[CV] END colsample_bylevel=0.5, colsample_bytree=0.5, gamma=0.2, learning_rate=0.01, max_depth=8, n_estimators=500, subsample=0.7; total time=   9.2s\n",
      "[CV] END colsample_bylevel=0.5, colsample_bytree=0.5, gamma=0.2, learning_rate=0.01, max_depth=8, n_estimators=500, subsample=0.7; total time=   9.4s\n",
      "[CV] END colsample_bylevel=0.5, colsample_bytree=0.5, gamma=0.2, learning_rate=0.01, max_depth=8, n_estimators=500, subsample=0.7; total time=   9.3s\n",
      "[CV] END colsample_bylevel=0.5, colsample_bytree=0.5, gamma=0.2, learning_rate=0.01, max_depth=8, n_estimators=500, subsample=0.7; total time=  11.9s\n",
      "[CV] END colsample_bylevel=0.5, colsample_bytree=0.5, gamma=0.2, learning_rate=0.01, max_depth=8, n_estimators=500, subsample=0.7; total time=  11.6s\n",
      "[CV] END colsample_bylevel=0.8000000000000003, colsample_bytree=0.9000000000000001, gamma=0.6000000000000001, learning_rate=0.3, max_depth=5, n_estimators=100, subsample=0.8999999999999999; total time=   1.9s\n",
      "[CV] END colsample_bylevel=0.8000000000000003, colsample_bytree=0.9000000000000001, gamma=0.6000000000000001, learning_rate=0.3, max_depth=5, n_estimators=100, subsample=0.8999999999999999; total time=   1.9s\n",
      "[CV] END colsample_bylevel=0.8000000000000003, colsample_bytree=0.9000000000000001, gamma=0.6000000000000001, learning_rate=0.3, max_depth=5, n_estimators=100, subsample=0.8999999999999999; total time=   2.0s\n",
      "[CV] END colsample_bylevel=0.8000000000000003, colsample_bytree=0.9000000000000001, gamma=0.6000000000000001, learning_rate=0.3, max_depth=5, n_estimators=100, subsample=0.8999999999999999; total time=   2.1s\n",
      "[CV] END colsample_bylevel=0.8000000000000003, colsample_bytree=0.9000000000000001, gamma=0.6000000000000001, learning_rate=0.3, max_depth=5, n_estimators=100, subsample=0.8999999999999999; total time=   2.1s\n",
      "[CV] END colsample_bylevel=0.4, colsample_bytree=0.9000000000000001, gamma=0.0, learning_rate=0.3, max_depth=6, n_estimators=500, subsample=0.7999999999999999; total time=  10.4s\n",
      "[CV] END colsample_bylevel=0.4, colsample_bytree=0.9000000000000001, gamma=0.0, learning_rate=0.3, max_depth=6, n_estimators=500, subsample=0.7999999999999999; total time=  10.1s\n",
      "[CV] END colsample_bylevel=0.4, colsample_bytree=0.9000000000000001, gamma=0.0, learning_rate=0.3, max_depth=6, n_estimators=500, subsample=0.7999999999999999; total time=  10.0s\n",
      "[CV] END colsample_bylevel=0.4, colsample_bytree=0.9000000000000001, gamma=0.0, learning_rate=0.3, max_depth=6, n_estimators=500, subsample=0.7999999999999999; total time=   9.5s\n",
      "[CV] END colsample_bylevel=0.4, colsample_bytree=0.9000000000000001, gamma=0.0, learning_rate=0.3, max_depth=6, n_estimators=500, subsample=0.7999999999999999; total time=   9.2s\n",
      "[CV] END colsample_bylevel=0.3, colsample_bytree=0.3, gamma=0.30000000000000004, learning_rate=0.3, max_depth=3, n_estimators=300, subsample=0.6; total time=   3.9s\n",
      "[CV] END colsample_bylevel=0.3, colsample_bytree=0.3, gamma=0.30000000000000004, learning_rate=0.3, max_depth=3, n_estimators=300, subsample=0.6; total time=   4.3s\n",
      "[CV] END colsample_bylevel=0.3, colsample_bytree=0.3, gamma=0.30000000000000004, learning_rate=0.3, max_depth=3, n_estimators=300, subsample=0.6; total time=   4.0s\n",
      "[CV] END colsample_bylevel=0.3, colsample_bytree=0.3, gamma=0.30000000000000004, learning_rate=0.3, max_depth=3, n_estimators=300, subsample=0.6; total time=   4.1s\n",
      "[CV] END colsample_bylevel=0.3, colsample_bytree=0.3, gamma=0.30000000000000004, learning_rate=0.3, max_depth=3, n_estimators=300, subsample=0.6; total time=   3.9s\n",
      "[CV] END colsample_bylevel=0.6000000000000001, colsample_bytree=0.6000000000000001, gamma=0.30000000000000004, learning_rate=0.2, max_depth=8, n_estimators=300, subsample=0.4; total time=   5.0s\n",
      "[CV] END colsample_bylevel=0.6000000000000001, colsample_bytree=0.6000000000000001, gamma=0.30000000000000004, learning_rate=0.2, max_depth=8, n_estimators=300, subsample=0.4; total time=   5.8s\n",
      "[CV] END colsample_bylevel=0.6000000000000001, colsample_bytree=0.6000000000000001, gamma=0.30000000000000004, learning_rate=0.2, max_depth=8, n_estimators=300, subsample=0.4; total time=   5.9s\n",
      "[CV] END colsample_bylevel=0.6000000000000001, colsample_bytree=0.6000000000000001, gamma=0.30000000000000004, learning_rate=0.2, max_depth=8, n_estimators=300, subsample=0.4; total time=   5.9s\n",
      "[CV] END colsample_bylevel=0.6000000000000001, colsample_bytree=0.6000000000000001, gamma=0.30000000000000004, learning_rate=0.2, max_depth=8, n_estimators=300, subsample=0.4; total time=   5.9s\n",
      "[CV] END colsample_bylevel=0.5, colsample_bytree=0.6000000000000001, gamma=0.5, learning_rate=0.01, max_depth=5, n_estimators=200, subsample=0.6; total time=   3.3s\n",
      "[CV] END colsample_bylevel=0.5, colsample_bytree=0.6000000000000001, gamma=0.5, learning_rate=0.01, max_depth=5, n_estimators=200, subsample=0.6; total time=   3.5s\n",
      "[CV] END colsample_bylevel=0.5, colsample_bytree=0.6000000000000001, gamma=0.5, learning_rate=0.01, max_depth=5, n_estimators=200, subsample=0.6; total time=   3.3s\n",
      "[CV] END colsample_bylevel=0.5, colsample_bytree=0.6000000000000001, gamma=0.5, learning_rate=0.01, max_depth=5, n_estimators=200, subsample=0.6; total time=   4.1s\n",
      "[CV] END colsample_bylevel=0.5, colsample_bytree=0.6000000000000001, gamma=0.5, learning_rate=0.01, max_depth=5, n_estimators=200, subsample=0.6; total time=   3.4s\n",
      "[CV] END colsample_bylevel=0.3, colsample_bytree=0.9000000000000001, gamma=0.30000000000000004, learning_rate=0.1, max_depth=10, n_estimators=400, subsample=0.5; total time=   7.7s\n"
     ]
    },
    {
     "name": "stdout",
     "output_type": "stream",
     "text": [
      "[CV] END colsample_bylevel=0.3, colsample_bytree=0.9000000000000001, gamma=0.30000000000000004, learning_rate=0.1, max_depth=10, n_estimators=400, subsample=0.5; total time=  10.1s\n",
      "[CV] END colsample_bylevel=0.3, colsample_bytree=0.9000000000000001, gamma=0.30000000000000004, learning_rate=0.1, max_depth=10, n_estimators=400, subsample=0.5; total time=  10.2s\n",
      "[CV] END colsample_bylevel=0.3, colsample_bytree=0.9000000000000001, gamma=0.30000000000000004, learning_rate=0.1, max_depth=10, n_estimators=400, subsample=0.5; total time=   9.2s\n",
      "[CV] END colsample_bylevel=0.3, colsample_bytree=0.9000000000000001, gamma=0.30000000000000004, learning_rate=0.1, max_depth=10, n_estimators=400, subsample=0.5; total time=   9.6s\n",
      "[CV] END colsample_bylevel=0.6000000000000001, colsample_bytree=0.6000000000000001, gamma=0.0, learning_rate=0.01, max_depth=11, n_estimators=500, subsample=0.7999999999999999; total time=  14.7s\n",
      "[CV] END colsample_bylevel=0.6000000000000001, colsample_bytree=0.6000000000000001, gamma=0.0, learning_rate=0.01, max_depth=11, n_estimators=500, subsample=0.7999999999999999; total time=  15.9s\n",
      "[CV] END colsample_bylevel=0.6000000000000001, colsample_bytree=0.6000000000000001, gamma=0.0, learning_rate=0.01, max_depth=11, n_estimators=500, subsample=0.7999999999999999; total time=  14.0s\n",
      "[CV] END colsample_bylevel=0.6000000000000001, colsample_bytree=0.6000000000000001, gamma=0.0, learning_rate=0.01, max_depth=11, n_estimators=500, subsample=0.7999999999999999; total time=  14.6s\n",
      "[CV] END colsample_bylevel=0.6000000000000001, colsample_bytree=0.6000000000000001, gamma=0.0, learning_rate=0.01, max_depth=11, n_estimators=500, subsample=0.7999999999999999; total time=  14.7s\n",
      "[CV] END colsample_bylevel=0.4, colsample_bytree=0.9000000000000001, gamma=0.4, learning_rate=0.2, max_depth=10, n_estimators=500, subsample=0.6; total time=   9.3s\n",
      "[CV] END colsample_bylevel=0.4, colsample_bytree=0.9000000000000001, gamma=0.4, learning_rate=0.2, max_depth=10, n_estimators=500, subsample=0.6; total time=  11.4s\n",
      "[CV] END colsample_bylevel=0.4, colsample_bytree=0.9000000000000001, gamma=0.4, learning_rate=0.2, max_depth=10, n_estimators=500, subsample=0.6; total time=  11.2s\n",
      "[CV] END colsample_bylevel=0.4, colsample_bytree=0.9000000000000001, gamma=0.4, learning_rate=0.2, max_depth=10, n_estimators=500, subsample=0.6; total time=  11.3s\n",
      "[CV] END colsample_bylevel=0.4, colsample_bytree=0.9000000000000001, gamma=0.4, learning_rate=0.2, max_depth=10, n_estimators=500, subsample=0.6; total time=  13.1s\n",
      "[CV] END colsample_bylevel=0.8000000000000003, colsample_bytree=0.9000000000000001, gamma=0.5, learning_rate=0.1, max_depth=5, n_estimators=300, subsample=0.7; total time=   6.6s\n",
      "[CV] END colsample_bylevel=0.8000000000000003, colsample_bytree=0.9000000000000001, gamma=0.5, learning_rate=0.1, max_depth=5, n_estimators=300, subsample=0.7; total time=   6.2s\n",
      "[CV] END colsample_bylevel=0.8000000000000003, colsample_bytree=0.9000000000000001, gamma=0.5, learning_rate=0.1, max_depth=5, n_estimators=300, subsample=0.7; total time=   5.2s\n",
      "[CV] END colsample_bylevel=0.8000000000000003, colsample_bytree=0.9000000000000001, gamma=0.5, learning_rate=0.1, max_depth=5, n_estimators=300, subsample=0.7; total time=   5.0s\n",
      "[CV] END colsample_bylevel=0.8000000000000003, colsample_bytree=0.9000000000000001, gamma=0.5, learning_rate=0.1, max_depth=5, n_estimators=300, subsample=0.7; total time=   4.9s\n",
      "[CV] END colsample_bylevel=0.9000000000000001, colsample_bytree=0.6000000000000001, gamma=0.5, learning_rate=0.5, max_depth=8, n_estimators=200, subsample=0.7999999999999999; total time=   4.2s\n",
      "[CV] END colsample_bylevel=0.9000000000000001, colsample_bytree=0.6000000000000001, gamma=0.5, learning_rate=0.5, max_depth=8, n_estimators=200, subsample=0.7999999999999999; total time=   4.6s\n",
      "[CV] END colsample_bylevel=0.9000000000000001, colsample_bytree=0.6000000000000001, gamma=0.5, learning_rate=0.5, max_depth=8, n_estimators=200, subsample=0.7999999999999999; total time=   4.5s\n",
      "[CV] END colsample_bylevel=0.9000000000000001, colsample_bytree=0.6000000000000001, gamma=0.5, learning_rate=0.5, max_depth=8, n_estimators=200, subsample=0.7999999999999999; total time=   4.5s\n",
      "[CV] END colsample_bylevel=0.9000000000000001, colsample_bytree=0.6000000000000001, gamma=0.5, learning_rate=0.5, max_depth=8, n_estimators=200, subsample=0.7999999999999999; total time=   4.7s\n",
      "[CV] END colsample_bylevel=0.9000000000000001, colsample_bytree=0.8000000000000003, gamma=0.6000000000000001, learning_rate=0.5, max_depth=11, n_estimators=200, subsample=0.4; total time=   4.0s\n",
      "[CV] END colsample_bylevel=0.9000000000000001, colsample_bytree=0.8000000000000003, gamma=0.6000000000000001, learning_rate=0.5, max_depth=11, n_estimators=200, subsample=0.4; total time=   4.7s\n",
      "[CV] END colsample_bylevel=0.9000000000000001, colsample_bytree=0.8000000000000003, gamma=0.6000000000000001, learning_rate=0.5, max_depth=11, n_estimators=200, subsample=0.4; total time=   5.1s\n",
      "[CV] END colsample_bylevel=0.9000000000000001, colsample_bytree=0.8000000000000003, gamma=0.6000000000000001, learning_rate=0.5, max_depth=11, n_estimators=200, subsample=0.4; total time=   4.9s\n",
      "[CV] END colsample_bylevel=0.9000000000000001, colsample_bytree=0.8000000000000003, gamma=0.6000000000000001, learning_rate=0.5, max_depth=11, n_estimators=200, subsample=0.4; total time=   4.8s\n",
      "[CV] END colsample_bylevel=0.4, colsample_bytree=0.3, gamma=0.6000000000000001, learning_rate=0.2, max_depth=11, n_estimators=400, subsample=0.7; total time=   7.7s\n",
      "[CV] END colsample_bylevel=0.4, colsample_bytree=0.3, gamma=0.6000000000000001, learning_rate=0.2, max_depth=11, n_estimators=400, subsample=0.7; total time=   9.4s\n",
      "[CV] END colsample_bylevel=0.4, colsample_bytree=0.3, gamma=0.6000000000000001, learning_rate=0.2, max_depth=11, n_estimators=400, subsample=0.7; total time=   8.6s\n",
      "[CV] END colsample_bylevel=0.4, colsample_bytree=0.3, gamma=0.6000000000000001, learning_rate=0.2, max_depth=11, n_estimators=400, subsample=0.7; total time=   8.8s\n",
      "[CV] END colsample_bylevel=0.4, colsample_bytree=0.3, gamma=0.6000000000000001, learning_rate=0.2, max_depth=11, n_estimators=400, subsample=0.7; total time=   9.3s\n",
      "[CV] END colsample_bylevel=0.9000000000000001, colsample_bytree=0.3, gamma=0.1, learning_rate=0.3, max_depth=5, n_estimators=300, subsample=0.8999999999999999; total time=   5.9s\n",
      "[CV] END colsample_bylevel=0.9000000000000001, colsample_bytree=0.3, gamma=0.1, learning_rate=0.3, max_depth=5, n_estimators=300, subsample=0.8999999999999999; total time=   5.6s\n",
      "[CV] END colsample_bylevel=0.9000000000000001, colsample_bytree=0.3, gamma=0.1, learning_rate=0.3, max_depth=5, n_estimators=300, subsample=0.8999999999999999; total time=   5.5s\n",
      "[CV] END colsample_bylevel=0.9000000000000001, colsample_bytree=0.3, gamma=0.1, learning_rate=0.3, max_depth=5, n_estimators=300, subsample=0.8999999999999999; total time=   4.7s\n",
      "[CV] END colsample_bylevel=0.9000000000000001, colsample_bytree=0.3, gamma=0.1, learning_rate=0.3, max_depth=5, n_estimators=300, subsample=0.8999999999999999; total time=   4.9s\n",
      "[CV] END colsample_bylevel=0.7000000000000002, colsample_bytree=0.3, gamma=0.4, learning_rate=0.1, max_depth=3, n_estimators=100, subsample=0.7999999999999999; total time=   1.5s\n",
      "[CV] END colsample_bylevel=0.7000000000000002, colsample_bytree=0.3, gamma=0.4, learning_rate=0.1, max_depth=3, n_estimators=100, subsample=0.7999999999999999; total time=   1.5s\n",
      "[CV] END colsample_bylevel=0.7000000000000002, colsample_bytree=0.3, gamma=0.4, learning_rate=0.1, max_depth=3, n_estimators=100, subsample=0.7999999999999999; total time=   1.4s\n",
      "[CV] END colsample_bylevel=0.7000000000000002, colsample_bytree=0.3, gamma=0.4, learning_rate=0.1, max_depth=3, n_estimators=100, subsample=0.7999999999999999; total time=   1.5s\n",
      "[CV] END colsample_bylevel=0.7000000000000002, colsample_bytree=0.3, gamma=0.4, learning_rate=0.1, max_depth=3, n_estimators=100, subsample=0.7999999999999999; total time=   1.5s\n",
      "[CV] END colsample_bylevel=0.9000000000000001, colsample_bytree=0.8000000000000003, gamma=0.6000000000000001, learning_rate=0.5, max_depth=5, n_estimators=400, subsample=0.7999999999999999; total time=   6.3s\n"
     ]
    },
    {
     "name": "stdout",
     "output_type": "stream",
     "text": [
      "[CV] END colsample_bylevel=0.9000000000000001, colsample_bytree=0.8000000000000003, gamma=0.6000000000000001, learning_rate=0.5, max_depth=5, n_estimators=400, subsample=0.7999999999999999; total time=   6.9s\n",
      "[CV] END colsample_bylevel=0.9000000000000001, colsample_bytree=0.8000000000000003, gamma=0.6000000000000001, learning_rate=0.5, max_depth=5, n_estimators=400, subsample=0.7999999999999999; total time=   6.7s\n",
      "[CV] END colsample_bylevel=0.9000000000000001, colsample_bytree=0.8000000000000003, gamma=0.6000000000000001, learning_rate=0.5, max_depth=5, n_estimators=400, subsample=0.7999999999999999; total time=   6.8s\n",
      "[CV] END colsample_bylevel=0.9000000000000001, colsample_bytree=0.8000000000000003, gamma=0.6000000000000001, learning_rate=0.5, max_depth=5, n_estimators=400, subsample=0.7999999999999999; total time=   7.1s\n",
      "[CV] END colsample_bylevel=0.9000000000000001, colsample_bytree=0.4, gamma=0.1, learning_rate=0.1, max_depth=8, n_estimators=300, subsample=0.5; total time=   5.3s\n",
      "[CV] END colsample_bylevel=0.9000000000000001, colsample_bytree=0.4, gamma=0.1, learning_rate=0.1, max_depth=8, n_estimators=300, subsample=0.5; total time=   5.6s\n",
      "[CV] END colsample_bylevel=0.9000000000000001, colsample_bytree=0.4, gamma=0.1, learning_rate=0.1, max_depth=8, n_estimators=300, subsample=0.5; total time=   5.5s\n",
      "[CV] END colsample_bylevel=0.9000000000000001, colsample_bytree=0.4, gamma=0.1, learning_rate=0.1, max_depth=8, n_estimators=300, subsample=0.5; total time=   5.7s\n",
      "[CV] END colsample_bylevel=0.9000000000000001, colsample_bytree=0.4, gamma=0.1, learning_rate=0.1, max_depth=8, n_estimators=300, subsample=0.5; total time=   5.5s\n",
      "[CV] END colsample_bylevel=0.5, colsample_bytree=0.6000000000000001, gamma=0.2, learning_rate=0.5, max_depth=3, n_estimators=500, subsample=0.4; total time=   6.3s\n",
      "[CV] END colsample_bylevel=0.5, colsample_bytree=0.6000000000000001, gamma=0.2, learning_rate=0.5, max_depth=3, n_estimators=500, subsample=0.4; total time=   6.7s\n",
      "[CV] END colsample_bylevel=0.5, colsample_bytree=0.6000000000000001, gamma=0.2, learning_rate=0.5, max_depth=3, n_estimators=500, subsample=0.4; total time=   6.2s\n",
      "[CV] END colsample_bylevel=0.5, colsample_bytree=0.6000000000000001, gamma=0.2, learning_rate=0.5, max_depth=3, n_estimators=500, subsample=0.4; total time=   6.2s\n",
      "[CV] END colsample_bylevel=0.5, colsample_bytree=0.6000000000000001, gamma=0.2, learning_rate=0.5, max_depth=3, n_estimators=500, subsample=0.4; total time=   6.3s\n",
      "[CV] END colsample_bylevel=0.7000000000000002, colsample_bytree=0.7000000000000002, gamma=0.30000000000000004, learning_rate=0.2, max_depth=3, n_estimators=400, subsample=0.8999999999999999; total time=   6.0s\n",
      "[CV] END colsample_bylevel=0.7000000000000002, colsample_bytree=0.7000000000000002, gamma=0.30000000000000004, learning_rate=0.2, max_depth=3, n_estimators=400, subsample=0.8999999999999999; total time=   5.5s\n",
      "[CV] END colsample_bylevel=0.7000000000000002, colsample_bytree=0.7000000000000002, gamma=0.30000000000000004, learning_rate=0.2, max_depth=3, n_estimators=400, subsample=0.8999999999999999; total time=   5.7s\n",
      "[CV] END colsample_bylevel=0.7000000000000002, colsample_bytree=0.7000000000000002, gamma=0.30000000000000004, learning_rate=0.2, max_depth=3, n_estimators=400, subsample=0.8999999999999999; total time=   5.6s\n",
      "[CV] END colsample_bylevel=0.7000000000000002, colsample_bytree=0.7000000000000002, gamma=0.30000000000000004, learning_rate=0.2, max_depth=3, n_estimators=400, subsample=0.8999999999999999; total time=   5.8s\n",
      "[CV] END colsample_bylevel=0.4, colsample_bytree=0.7000000000000002, gamma=0.0, learning_rate=0.1, max_depth=11, n_estimators=100, subsample=0.6; total time=   2.3s\n",
      "[CV] END colsample_bylevel=0.4, colsample_bytree=0.7000000000000002, gamma=0.0, learning_rate=0.1, max_depth=11, n_estimators=100, subsample=0.6; total time=   2.5s\n",
      "[CV] END colsample_bylevel=0.4, colsample_bytree=0.7000000000000002, gamma=0.0, learning_rate=0.1, max_depth=11, n_estimators=100, subsample=0.6; total time=   2.6s\n",
      "[CV] END colsample_bylevel=0.4, colsample_bytree=0.7000000000000002, gamma=0.0, learning_rate=0.1, max_depth=11, n_estimators=100, subsample=0.6; total time=   2.5s\n",
      "[CV] END colsample_bylevel=0.4, colsample_bytree=0.7000000000000002, gamma=0.0, learning_rate=0.1, max_depth=11, n_estimators=100, subsample=0.6; total time=   2.6s\n",
      "[CV] END colsample_bylevel=0.5, colsample_bytree=0.6000000000000001, gamma=0.4, learning_rate=0.1, max_depth=11, n_estimators=500, subsample=0.4; total time=   8.7s\n",
      "[CV] END colsample_bylevel=0.5, colsample_bytree=0.6000000000000001, gamma=0.4, learning_rate=0.1, max_depth=11, n_estimators=500, subsample=0.4; total time=  10.5s\n",
      "[CV] END colsample_bylevel=0.5, colsample_bytree=0.6000000000000001, gamma=0.4, learning_rate=0.1, max_depth=11, n_estimators=500, subsample=0.4; total time=  10.6s\n",
      "[CV] END colsample_bylevel=0.5, colsample_bytree=0.6000000000000001, gamma=0.4, learning_rate=0.1, max_depth=11, n_estimators=500, subsample=0.4; total time=  10.4s\n",
      "[CV] END colsample_bylevel=0.5, colsample_bytree=0.6000000000000001, gamma=0.4, learning_rate=0.1, max_depth=11, n_estimators=500, subsample=0.4; total time=  10.3s\n",
      "[CV] END colsample_bylevel=0.8000000000000003, colsample_bytree=0.5, gamma=0.6000000000000001, learning_rate=0.3, max_depth=5, n_estimators=500, subsample=0.5; total time=   7.2s\n",
      "[CV] END colsample_bylevel=0.8000000000000003, colsample_bytree=0.5, gamma=0.6000000000000001, learning_rate=0.3, max_depth=5, n_estimators=500, subsample=0.5; total time=   7.5s\n",
      "[CV] END colsample_bylevel=0.8000000000000003, colsample_bytree=0.5, gamma=0.6000000000000001, learning_rate=0.3, max_depth=5, n_estimators=500, subsample=0.5; total time=   7.6s\n",
      "[CV] END colsample_bylevel=0.8000000000000003, colsample_bytree=0.5, gamma=0.6000000000000001, learning_rate=0.3, max_depth=5, n_estimators=500, subsample=0.5; total time=   7.5s\n",
      "[CV] END colsample_bylevel=0.8000000000000003, colsample_bytree=0.5, gamma=0.6000000000000001, learning_rate=0.3, max_depth=5, n_estimators=500, subsample=0.5; total time=   8.4s\n",
      "[CV] END colsample_bylevel=0.3, colsample_bytree=0.8000000000000003, gamma=0.4, learning_rate=0.1, max_depth=5, n_estimators=400, subsample=0.4; total time=   6.8s\n",
      "[CV] END colsample_bylevel=0.3, colsample_bytree=0.8000000000000003, gamma=0.4, learning_rate=0.1, max_depth=5, n_estimators=400, subsample=0.4; total time=   5.6s\n",
      "[CV] END colsample_bylevel=0.3, colsample_bytree=0.8000000000000003, gamma=0.4, learning_rate=0.1, max_depth=5, n_estimators=400, subsample=0.4; total time=   5.6s\n",
      "[CV] END colsample_bylevel=0.3, colsample_bytree=0.8000000000000003, gamma=0.4, learning_rate=0.1, max_depth=5, n_estimators=400, subsample=0.4; total time=   5.8s\n",
      "[CV] END colsample_bylevel=0.3, colsample_bytree=0.8000000000000003, gamma=0.4, learning_rate=0.1, max_depth=5, n_estimators=400, subsample=0.4; total time=   5.7s\n",
      "[CV] END colsample_bylevel=0.4, colsample_bytree=0.9000000000000001, gamma=0.1, learning_rate=0.2, max_depth=11, n_estimators=300, subsample=0.7999999999999999; total time=   6.2s\n",
      "[CV] END colsample_bylevel=0.4, colsample_bytree=0.9000000000000001, gamma=0.1, learning_rate=0.2, max_depth=11, n_estimators=300, subsample=0.7999999999999999; total time=   7.1s\n",
      "[CV] END colsample_bylevel=0.4, colsample_bytree=0.9000000000000001, gamma=0.1, learning_rate=0.2, max_depth=11, n_estimators=300, subsample=0.7999999999999999; total time=   7.5s\n",
      "[CV] END colsample_bylevel=0.4, colsample_bytree=0.9000000000000001, gamma=0.1, learning_rate=0.2, max_depth=11, n_estimators=300, subsample=0.7999999999999999; total time=   7.3s\n",
      "[CV] END colsample_bylevel=0.4, colsample_bytree=0.9000000000000001, gamma=0.1, learning_rate=0.2, max_depth=11, n_estimators=300, subsample=0.7999999999999999; total time=   7.3s\n",
      "[CV] END colsample_bylevel=0.6000000000000001, colsample_bytree=0.5, gamma=0.0, learning_rate=0.3, max_depth=5, n_estimators=200, subsample=0.6; total time=   3.1s\n",
      "[CV] END colsample_bylevel=0.6000000000000001, colsample_bytree=0.5, gamma=0.0, learning_rate=0.3, max_depth=5, n_estimators=200, subsample=0.6; total time=   3.0s\n",
      "[CV] END colsample_bylevel=0.6000000000000001, colsample_bytree=0.5, gamma=0.0, learning_rate=0.3, max_depth=5, n_estimators=200, subsample=0.6; total time=   3.1s\n"
     ]
    },
    {
     "name": "stdout",
     "output_type": "stream",
     "text": [
      "[CV] END colsample_bylevel=0.6000000000000001, colsample_bytree=0.5, gamma=0.0, learning_rate=0.3, max_depth=5, n_estimators=200, subsample=0.6; total time=   3.1s\n",
      "[CV] END colsample_bylevel=0.6000000000000001, colsample_bytree=0.5, gamma=0.0, learning_rate=0.3, max_depth=5, n_estimators=200, subsample=0.6; total time=   3.1s\n",
      "[CV] END colsample_bylevel=0.7000000000000002, colsample_bytree=0.3, gamma=0.6000000000000001, learning_rate=0.5, max_depth=9, n_estimators=300, subsample=0.6; total time=   5.0s\n",
      "[CV] END colsample_bylevel=0.7000000000000002, colsample_bytree=0.3, gamma=0.6000000000000001, learning_rate=0.5, max_depth=9, n_estimators=300, subsample=0.6; total time=   5.7s\n",
      "[CV] END colsample_bylevel=0.7000000000000002, colsample_bytree=0.3, gamma=0.6000000000000001, learning_rate=0.5, max_depth=9, n_estimators=300, subsample=0.6; total time=   5.7s\n",
      "[CV] END colsample_bylevel=0.7000000000000002, colsample_bytree=0.3, gamma=0.6000000000000001, learning_rate=0.5, max_depth=9, n_estimators=300, subsample=0.6; total time=   5.7s\n",
      "[CV] END colsample_bylevel=0.7000000000000002, colsample_bytree=0.3, gamma=0.6000000000000001, learning_rate=0.5, max_depth=9, n_estimators=300, subsample=0.6; total time=   7.3s\n",
      "[CV] END colsample_bylevel=0.5, colsample_bytree=0.9000000000000001, gamma=0.30000000000000004, learning_rate=0.3, max_depth=10, n_estimators=500, subsample=0.7999999999999999; total time=  11.8s\n",
      "[CV] END colsample_bylevel=0.5, colsample_bytree=0.9000000000000001, gamma=0.30000000000000004, learning_rate=0.3, max_depth=10, n_estimators=500, subsample=0.7999999999999999; total time=  12.2s\n",
      "[CV] END colsample_bylevel=0.5, colsample_bytree=0.9000000000000001, gamma=0.30000000000000004, learning_rate=0.3, max_depth=10, n_estimators=500, subsample=0.7999999999999999; total time=  10.9s\n",
      "[CV] END colsample_bylevel=0.5, colsample_bytree=0.9000000000000001, gamma=0.30000000000000004, learning_rate=0.3, max_depth=10, n_estimators=500, subsample=0.7999999999999999; total time=  11.2s\n",
      "[CV] END colsample_bylevel=0.5, colsample_bytree=0.9000000000000001, gamma=0.30000000000000004, learning_rate=0.3, max_depth=10, n_estimators=500, subsample=0.7999999999999999; total time=  11.0s\n",
      "[CV] END colsample_bylevel=0.5, colsample_bytree=0.8000000000000003, gamma=0.4, learning_rate=0.2, max_depth=3, n_estimators=500, subsample=0.4; total time=   6.0s\n",
      "[CV] END colsample_bylevel=0.5, colsample_bytree=0.8000000000000003, gamma=0.4, learning_rate=0.2, max_depth=3, n_estimators=500, subsample=0.4; total time=   6.2s\n",
      "[CV] END colsample_bylevel=0.5, colsample_bytree=0.8000000000000003, gamma=0.4, learning_rate=0.2, max_depth=3, n_estimators=500, subsample=0.4; total time=   6.2s\n",
      "[CV] END colsample_bylevel=0.5, colsample_bytree=0.8000000000000003, gamma=0.4, learning_rate=0.2, max_depth=3, n_estimators=500, subsample=0.4; total time=   6.3s\n",
      "[CV] END colsample_bylevel=0.5, colsample_bytree=0.8000000000000003, gamma=0.4, learning_rate=0.2, max_depth=3, n_estimators=500, subsample=0.4; total time=   6.1s\n",
      "Wall time: 24min 24s\n"
     ]
    },
    {
     "data": {
      "text/html": [
       "<style>#sk-container-id-1 {color: black;background-color: white;}#sk-container-id-1 pre{padding: 0;}#sk-container-id-1 div.sk-toggleable {background-color: white;}#sk-container-id-1 label.sk-toggleable__label {cursor: pointer;display: block;width: 100%;margin-bottom: 0;padding: 0.3em;box-sizing: border-box;text-align: center;}#sk-container-id-1 label.sk-toggleable__label-arrow:before {content: \"▸\";float: left;margin-right: 0.25em;color: #696969;}#sk-container-id-1 label.sk-toggleable__label-arrow:hover:before {color: black;}#sk-container-id-1 div.sk-estimator:hover label.sk-toggleable__label-arrow:before {color: black;}#sk-container-id-1 div.sk-toggleable__content {max-height: 0;max-width: 0;overflow: hidden;text-align: left;background-color: #f0f8ff;}#sk-container-id-1 div.sk-toggleable__content pre {margin: 0.2em;color: black;border-radius: 0.25em;background-color: #f0f8ff;}#sk-container-id-1 input.sk-toggleable__control:checked~div.sk-toggleable__content {max-height: 200px;max-width: 100%;overflow: auto;}#sk-container-id-1 input.sk-toggleable__control:checked~label.sk-toggleable__label-arrow:before {content: \"▾\";}#sk-container-id-1 div.sk-estimator input.sk-toggleable__control:checked~label.sk-toggleable__label {background-color: #d4ebff;}#sk-container-id-1 div.sk-label input.sk-toggleable__control:checked~label.sk-toggleable__label {background-color: #d4ebff;}#sk-container-id-1 input.sk-hidden--visually {border: 0;clip: rect(1px 1px 1px 1px);clip: rect(1px, 1px, 1px, 1px);height: 1px;margin: -1px;overflow: hidden;padding: 0;position: absolute;width: 1px;}#sk-container-id-1 div.sk-estimator {font-family: monospace;background-color: #f0f8ff;border: 1px dotted black;border-radius: 0.25em;box-sizing: border-box;margin-bottom: 0.5em;}#sk-container-id-1 div.sk-estimator:hover {background-color: #d4ebff;}#sk-container-id-1 div.sk-parallel-item::after {content: \"\";width: 100%;border-bottom: 1px solid gray;flex-grow: 1;}#sk-container-id-1 div.sk-label:hover label.sk-toggleable__label {background-color: #d4ebff;}#sk-container-id-1 div.sk-serial::before {content: \"\";position: absolute;border-left: 1px solid gray;box-sizing: border-box;top: 0;bottom: 0;left: 50%;z-index: 0;}#sk-container-id-1 div.sk-serial {display: flex;flex-direction: column;align-items: center;background-color: white;padding-right: 0.2em;padding-left: 0.2em;position: relative;}#sk-container-id-1 div.sk-item {position: relative;z-index: 1;}#sk-container-id-1 div.sk-parallel {display: flex;align-items: stretch;justify-content: center;background-color: white;position: relative;}#sk-container-id-1 div.sk-item::before, #sk-container-id-1 div.sk-parallel-item::before {content: \"\";position: absolute;border-left: 1px solid gray;box-sizing: border-box;top: 0;bottom: 0;left: 50%;z-index: -1;}#sk-container-id-1 div.sk-parallel-item {display: flex;flex-direction: column;z-index: 1;position: relative;background-color: white;}#sk-container-id-1 div.sk-parallel-item:first-child::after {align-self: flex-end;width: 50%;}#sk-container-id-1 div.sk-parallel-item:last-child::after {align-self: flex-start;width: 50%;}#sk-container-id-1 div.sk-parallel-item:only-child::after {width: 0;}#sk-container-id-1 div.sk-dashed-wrapped {border: 1px dashed gray;margin: 0 0.4em 0.5em 0.4em;box-sizing: border-box;padding-bottom: 0.4em;background-color: white;}#sk-container-id-1 div.sk-label label {font-family: monospace;font-weight: bold;display: inline-block;line-height: 1.2em;}#sk-container-id-1 div.sk-label-container {text-align: center;}#sk-container-id-1 div.sk-container {/* jupyter's `normalize.less` sets `[hidden] { display: none; }` but bootstrap.min.css set `[hidden] { display: none !important; }` so we also need the `!important` here to be able to override the default hidden behavior on the sphinx rendered scikit-learn.org. See: https://github.com/scikit-learn/scikit-learn/issues/21755 */display: inline-block !important;position: relative;}#sk-container-id-1 div.sk-text-repr-fallback {display: none;}</style><div id=\"sk-container-id-1\" class=\"sk-top-container\"><div class=\"sk-text-repr-fallback\"><pre>RandomizedSearchCV(cv=5,\n",
       "                   estimator=XGBClassifier(base_score=None, booster=None,\n",
       "                                           colsample_bylevel=None,\n",
       "                                           colsample_bynode=None,\n",
       "                                           colsample_bytree=None,\n",
       "                                           eval_metric=&#x27;aucpr&#x27;, gamma=None,\n",
       "                                           gpu_id=None, importance_type=&#x27;gain&#x27;,\n",
       "                                           interaction_constraints=None,\n",
       "                                           learning_rate=None,\n",
       "                                           max_delta_step=None, max_depth=None,\n",
       "                                           min_child_weight=None, missing=nan,\n",
       "                                           monotone_constraints=No...\n",
       "                   param_distributions={&#x27;colsample_bylevel&#x27;: array([0.3, 0.4, 0.5, 0.6, 0.7, 0.8, 0.9]),\n",
       "                                        &#x27;colsample_bytree&#x27;: array([0.3, 0.4, 0.5, 0.6, 0.7, 0.8, 0.9]),\n",
       "                                        &#x27;gamma&#x27;: array([0. , 0.1, 0.2, 0.3, 0.4, 0.5, 0.6]),\n",
       "                                        &#x27;learning_rate&#x27;: [0.01, 0.1, 0.2, 0.3,\n",
       "                                                          0.5],\n",
       "                                        &#x27;max_depth&#x27;: [3, 5, 6, 8, 9, 10, 11],\n",
       "                                        &#x27;n_estimators&#x27;: array([100, 200, 300, 400, 500]),\n",
       "                                        &#x27;subsample&#x27;: array([0.4, 0.5, 0.6, 0.7, 0.8, 0.9])},\n",
       "                   scoring=&#x27;average_precision&#x27;, verbose=2)</pre><b>In a Jupyter environment, please rerun this cell to show the HTML representation or trust the notebook. <br />On GitHub, the HTML representation is unable to render, please try loading this page with nbviewer.org.</b></div><div class=\"sk-container\" hidden><div class=\"sk-item sk-dashed-wrapped\"><div class=\"sk-label-container\"><div class=\"sk-label sk-toggleable\"><input class=\"sk-toggleable__control sk-hidden--visually\" id=\"sk-estimator-id-1\" type=\"checkbox\" ><label for=\"sk-estimator-id-1\" class=\"sk-toggleable__label sk-toggleable__label-arrow\">RandomizedSearchCV</label><div class=\"sk-toggleable__content\"><pre>RandomizedSearchCV(cv=5,\n",
       "                   estimator=XGBClassifier(base_score=None, booster=None,\n",
       "                                           colsample_bylevel=None,\n",
       "                                           colsample_bynode=None,\n",
       "                                           colsample_bytree=None,\n",
       "                                           eval_metric=&#x27;aucpr&#x27;, gamma=None,\n",
       "                                           gpu_id=None, importance_type=&#x27;gain&#x27;,\n",
       "                                           interaction_constraints=None,\n",
       "                                           learning_rate=None,\n",
       "                                           max_delta_step=None, max_depth=None,\n",
       "                                           min_child_weight=None, missing=nan,\n",
       "                                           monotone_constraints=No...\n",
       "                   param_distributions={&#x27;colsample_bylevel&#x27;: array([0.3, 0.4, 0.5, 0.6, 0.7, 0.8, 0.9]),\n",
       "                                        &#x27;colsample_bytree&#x27;: array([0.3, 0.4, 0.5, 0.6, 0.7, 0.8, 0.9]),\n",
       "                                        &#x27;gamma&#x27;: array([0. , 0.1, 0.2, 0.3, 0.4, 0.5, 0.6]),\n",
       "                                        &#x27;learning_rate&#x27;: [0.01, 0.1, 0.2, 0.3,\n",
       "                                                          0.5],\n",
       "                                        &#x27;max_depth&#x27;: [3, 5, 6, 8, 9, 10, 11],\n",
       "                                        &#x27;n_estimators&#x27;: array([100, 200, 300, 400, 500]),\n",
       "                                        &#x27;subsample&#x27;: array([0.4, 0.5, 0.6, 0.7, 0.8, 0.9])},\n",
       "                   scoring=&#x27;average_precision&#x27;, verbose=2)</pre></div></div></div><div class=\"sk-parallel\"><div class=\"sk-parallel-item\"><div class=\"sk-item\"><div class=\"sk-label-container\"><div class=\"sk-label sk-toggleable\"><input class=\"sk-toggleable__control sk-hidden--visually\" id=\"sk-estimator-id-2\" type=\"checkbox\" ><label for=\"sk-estimator-id-2\" class=\"sk-toggleable__label sk-toggleable__label-arrow\">estimator: XGBClassifier</label><div class=\"sk-toggleable__content\"><pre>XGBClassifier(base_score=None, booster=None, colsample_bylevel=None,\n",
       "              colsample_bynode=None, colsample_bytree=None, eval_metric=&#x27;aucpr&#x27;,\n",
       "              gamma=None, gpu_id=None, importance_type=&#x27;gain&#x27;,\n",
       "              interaction_constraints=None, learning_rate=None,\n",
       "              max_delta_step=None, max_depth=None, min_child_weight=None,\n",
       "              missing=nan, monotone_constraints=None, n_estimators=100,\n",
       "              n_jobs=None, num_parallel_tree=None, random_state=42,\n",
       "              reg_alpha=None, reg_lambda=None, scale_pos_weight=None,\n",
       "              subsample=None, tree_method=&#x27;hist&#x27;, validate_parameters=None,\n",
       "              verbosity=None)</pre></div></div></div><div class=\"sk-serial\"><div class=\"sk-item\"><div class=\"sk-estimator sk-toggleable\"><input class=\"sk-toggleable__control sk-hidden--visually\" id=\"sk-estimator-id-3\" type=\"checkbox\" ><label for=\"sk-estimator-id-3\" class=\"sk-toggleable__label sk-toggleable__label-arrow\">XGBClassifier</label><div class=\"sk-toggleable__content\"><pre>XGBClassifier(base_score=None, booster=None, colsample_bylevel=None,\n",
       "              colsample_bynode=None, colsample_bytree=None, eval_metric=&#x27;aucpr&#x27;,\n",
       "              gamma=None, gpu_id=None, importance_type=&#x27;gain&#x27;,\n",
       "              interaction_constraints=None, learning_rate=None,\n",
       "              max_delta_step=None, max_depth=None, min_child_weight=None,\n",
       "              missing=nan, monotone_constraints=None, n_estimators=100,\n",
       "              n_jobs=None, num_parallel_tree=None, random_state=42,\n",
       "              reg_alpha=None, reg_lambda=None, scale_pos_weight=None,\n",
       "              subsample=None, tree_method=&#x27;hist&#x27;, validate_parameters=None,\n",
       "              verbosity=None)</pre></div></div></div></div></div></div></div></div></div></div>"
      ],
      "text/plain": [
       "RandomizedSearchCV(cv=5,\n",
       "                   estimator=XGBClassifier(base_score=None, booster=None,\n",
       "                                           colsample_bylevel=None,\n",
       "                                           colsample_bynode=None,\n",
       "                                           colsample_bytree=None,\n",
       "                                           eval_metric='aucpr', gamma=None,\n",
       "                                           gpu_id=None, importance_type='gain',\n",
       "                                           interaction_constraints=None,\n",
       "                                           learning_rate=None,\n",
       "                                           max_delta_step=None, max_depth=None,\n",
       "                                           min_child_weight=None, missing=nan,\n",
       "                                           monotone_constraints=No...\n",
       "                   param_distributions={'colsample_bylevel': array([0.3, 0.4, 0.5, 0.6, 0.7, 0.8, 0.9]),\n",
       "                                        'colsample_bytree': array([0.3, 0.4, 0.5, 0.6, 0.7, 0.8, 0.9]),\n",
       "                                        'gamma': array([0. , 0.1, 0.2, 0.3, 0.4, 0.5, 0.6]),\n",
       "                                        'learning_rate': [0.01, 0.1, 0.2, 0.3,\n",
       "                                                          0.5],\n",
       "                                        'max_depth': [3, 5, 6, 8, 9, 10, 11],\n",
       "                                        'n_estimators': array([100, 200, 300, 400, 500]),\n",
       "                                        'subsample': array([0.4, 0.5, 0.6, 0.7, 0.8, 0.9])},\n",
       "                   scoring='average_precision', verbose=2)"
      ]
     },
     "execution_count": 62,
     "metadata": {},
     "output_type": "execute_result"
    }
   ],
   "source": [
    "%%time\n",
    "\n",
    "# Run XGBoost grid search\n",
    "xgb_grid.fit(X, y)"
   ]
  },
  {
   "cell_type": "code",
   "execution_count": 63,
   "metadata": {
    "colab": {
     "base_uri": "https://localhost:8080/"
    },
    "id": "1kxtIDiM36NM",
    "outputId": "be629131-3264-4a13-a8a6-b3bae3beb42c"
   },
   "outputs": [
    {
     "data": {
      "text/plain": [
       "{'subsample': 0.5,\n",
       " 'n_estimators': 400,\n",
       " 'max_depth': 10,\n",
       " 'learning_rate': 0.1,\n",
       " 'gamma': 0.30000000000000004,\n",
       " 'colsample_bytree': 0.9000000000000001,\n",
       " 'colsample_bylevel': 0.3}"
      ]
     },
     "execution_count": 63,
     "metadata": {},
     "output_type": "execute_result"
    }
   ],
   "source": [
    "# Best parameters from RandomizedSearchCV\n",
    "xgb_grid.best_params_"
   ]
  },
  {
   "cell_type": "code",
   "execution_count": 64,
   "metadata": {
    "id": "_ca_Ws_W36Ca"
   },
   "outputs": [],
   "source": [
    "# Get best XGBoost model (based on best parameters) and predict on test set\n",
    "xgb_best = xgb_grid.best_estimator_"
   ]
  },
  {
   "cell_type": "markdown",
   "metadata": {
    "id": "8rR4s8vd9VRC"
   },
   "source": [
    "### Predict on Test Set"
   ]
  },
  {
   "cell_type": "code",
   "execution_count": 65,
   "metadata": {
    "colab": {
     "base_uri": "https://localhost:8080/"
    },
    "id": "ReWPZ-W7TFI3",
    "outputId": "970ade7b-1212-4a9b-d6c9-6cd1ef9ce068"
   },
   "outputs": [
    {
     "data": {
      "text/plain": [
       "array([[9.7698033e-01, 2.3019686e-02],\n",
       "       [9.9238545e-01, 7.6145269e-03],\n",
       "       [9.9959898e-01, 4.0100960e-04],\n",
       "       ...,\n",
       "       [9.9319422e-01, 6.8057971e-03],\n",
       "       [9.9828261e-01, 1.7174181e-03],\n",
       "       [9.8612994e-01, 1.3870084e-02]], dtype=float32)"
      ]
     },
     "execution_count": 65,
     "metadata": {},
     "output_type": "execute_result"
    }
   ],
   "source": [
    "# Set X and y datasets\n",
    "X_test = test_df.drop(columns=target)\n",
    "y_test = test_df[target]\n",
    "\n",
    "# Get prediction probabilities\n",
    "preds_proba = xgb_best.predict_proba(X_test)\n",
    "preds_proba"
   ]
  },
  {
   "cell_type": "code",
   "execution_count": 66,
   "metadata": {
    "colab": {
     "base_uri": "https://localhost:8080/"
    },
    "id": "I1HOQhgjn9mf",
    "outputId": "ceb99561-5dc4-47ec-e348-28a2a9015d89"
   },
   "outputs": [
    {
     "data": {
      "text/plain": [
       "array([0.02301969, 0.00761453, 0.00040101, ..., 0.0068058 , 0.00171742,\n",
       "       0.01387008], dtype=float32)"
      ]
     },
     "execution_count": 66,
     "metadata": {},
     "output_type": "execute_result"
    }
   ],
   "source": [
    "# Get prediction probabilities for label 1\n",
    "y_preds_proba = preds_proba[:,1]\n",
    "y_preds_proba"
   ]
  },
  {
   "cell_type": "code",
   "execution_count": 67,
   "metadata": {
    "colab": {
     "base_uri": "https://localhost:8080/"
    },
    "id": "W6sT-vLeoqB6",
    "outputId": "e3a7d158-0662-4e43-8a4e-9284f0fea8a7"
   },
   "outputs": [
    {
     "data": {
      "text/plain": [
       "array([0, 0, 0, ..., 0, 0, 0], dtype=int64)"
      ]
     },
     "execution_count": 67,
     "metadata": {},
     "output_type": "execute_result"
    }
   ],
   "source": [
    "# Get predicted labels\n",
    "preds = xgb_best.predict(X_test)\n",
    "preds"
   ]
  },
  {
   "cell_type": "markdown",
   "metadata": {
    "id": "sEg5AWDIh-oj"
   },
   "source": [
    "### Review performance metrics"
   ]
  },
  {
   "cell_type": "code",
   "execution_count": 68,
   "metadata": {
    "id": "_vZmj6c5h-oj"
   },
   "outputs": [],
   "source": [
    "# Define function to consolidate and display performance metrics\n",
    "def gen_performance_metrics(y_true, y_preds, y_preds_proba, model_name, round_to=3):\n",
    "    accuracy = round(metrics.accuracy_score(y_true, y_preds), round_to)\n",
    "    f1_score = round(metrics.f1_score(y_true, y_preds), round_to)\n",
    "    roc_auc = round(metrics.roc_auc_score(y_true, y_preds_proba), round_to)\n",
    "    avg_precision = round(metrics.average_precision_score(y_true, y_preds_proba), round_to)\n",
    "\n",
    "    df = pd.DataFrame([[model_name, accuracy, f1_score, roc_auc, avg_precision]], \n",
    "                        columns=['Model', 'Accuracy', 'F1 Score', 'ROC AUC Score', 'Average Precision'])\n",
    "    \n",
    "    display(df)\n",
    "    display(metrics.ConfusionMatrixDisplay.from_predictions(y_true, y_preds))"
   ]
  },
  {
   "cell_type": "code",
   "execution_count": 70,
   "metadata": {
    "colab": {
     "base_uri": "https://localhost:8080/",
     "height": 360
    },
    "id": "OjcC5drhh-ok",
    "outputId": "038a9ad0-ab2d-42f4-d59c-1c819e993e97"
   },
   "outputs": [
    {
     "data": {
      "text/html": [
       "<div>\n",
       "<style scoped>\n",
       "    .dataframe tbody tr th:only-of-type {\n",
       "        vertical-align: middle;\n",
       "    }\n",
       "\n",
       "    .dataframe tbody tr th {\n",
       "        vertical-align: top;\n",
       "    }\n",
       "\n",
       "    .dataframe thead th {\n",
       "        text-align: right;\n",
       "    }\n",
       "</style>\n",
       "<table border=\"1\" class=\"dataframe\">\n",
       "  <thead>\n",
       "    <tr style=\"text-align: right;\">\n",
       "      <th></th>\n",
       "      <th>Model</th>\n",
       "      <th>Accuracy</th>\n",
       "      <th>F1 Score</th>\n",
       "      <th>ROC AUC Score</th>\n",
       "      <th>Average Precision</th>\n",
       "    </tr>\n",
       "  </thead>\n",
       "  <tbody>\n",
       "    <tr>\n",
       "      <th>0</th>\n",
       "      <td>XGBoost + RandomizedSearchCV</td>\n",
       "      <td>0.995</td>\n",
       "      <td>0.724</td>\n",
       "      <td>0.912</td>\n",
       "      <td>0.775</td>\n",
       "    </tr>\n",
       "  </tbody>\n",
       "</table>\n",
       "</div>"
      ],
      "text/plain": [
       "                          Model  Accuracy  F1 Score  ROC AUC Score  \\\n",
       "0  XGBoost + RandomizedSearchCV     0.995     0.724          0.912   \n",
       "\n",
       "   Average Precision  \n",
       "0              0.775  "
      ]
     },
     "metadata": {},
     "output_type": "display_data"
    },
    {
     "data": {
      "text/plain": [
       "<sklearn.metrics._plot.confusion_matrix.ConfusionMatrixDisplay at 0x24ce7803c40>"
      ]
     },
     "metadata": {},
     "output_type": "display_data"
    },
    {
     "data": {
      "image/png": "[encoded data removed]",
      "text/plain": [
       "<Figure size 432x288 with 2 Axes>"
      ]
     },
     "metadata": {
      "needs_background": "light"
     },
     "output_type": "display_data"
    }
   ],
   "source": [
    "# Show performance assessment\n",
    "gen_performance_metrics(y_test, preds, y_preds_proba, 'XGBoost + RandomizedSearchCV')"
   ]
  },
  {
   "cell_type": "code",
   "execution_count": 75,
   "metadata": {},
   "outputs": [],
   "source": [
    "import pickle\n",
    "artifact_filename = 'model.pkl'\n",
    "\n",
    "# Save model artifact to local filesystem (doesn't persist)\n",
    "local_path = artifact_filename\n",
    "with open(local_path, 'wb') as model_file:\n",
    "  pickle.dump(xgb_best, model_file)"
   ]
  },
  {
   "cell_type": "code",
   "execution_count": 84,
   "metadata": {},
   "outputs": [],
   "source": [
    "pickled_model = pickle.load(open('model.pkl', 'rb'))"
   ]
  }
 ],
 "metadata": {
  "accelerator": "GPU",
  "colab": {
   "collapsed_sections": [],
   "name": "02_XGBoost_RandomizedSearch.ipynb",
   "provenance": []
  },
  "kernelspec": {
   "display_name": "Python 3",
   "language": "python",
   "name": "python3"
  },
  "language_info": {
   "codemirror_mode": {
    "name": "ipython",
    "version": 3
   },
   "file_extension": ".py",
   "mimetype": "text/x-python",
   "name": "python",
   "nbconvert_exporter": "python",
   "pygments_lexer": "ipython3",
   "version": "3.8.3"
  }
 },
 "nbformat": 4,
 "nbformat_minor": 1
}
